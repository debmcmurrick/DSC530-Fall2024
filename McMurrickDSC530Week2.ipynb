{
 "cells": [
  {
   "cell_type": "code",
   "execution_count": 36,
   "id": "37cdd49e-2b4d-4fd0-a755-5d96ef126f08",
   "metadata": {},
   "outputs": [
    {
     "name": "stdout",
     "output_type": "stream",
     "text": [
      "Hello World! My name is Debbie.\n"
     ]
    }
   ],
   "source": [
    "#Display text\n",
    "print(\"Hello World! My name is Debbie.\")"
   ]
  },
  {
   "cell_type": "code",
   "execution_count": 38,
   "id": "94ebab50-6c5c-4b9a-a49c-32a85611b5e3",
   "metadata": {},
   "outputs": [
    {
     "data": {
      "text/plain": [
       "15"
      ]
     },
     "execution_count": 38,
     "metadata": {},
     "output_type": "execute_result"
    }
   ],
   "source": [
    "#Add two numbers together\n",
    "10+5"
   ]
  },
  {
   "cell_type": "code",
   "execution_count": 40,
   "id": "c7bf8168-f183-405e-9aa3-f1fd9aebbb07",
   "metadata": {},
   "outputs": [
    {
     "data": {
      "text/plain": [
       "12"
      ]
     },
     "execution_count": 40,
     "metadata": {},
     "output_type": "execute_result"
    }
   ],
   "source": [
    "#Subtract a number from another number\n",
    "18-6"
   ]
  },
  {
   "cell_type": "code",
   "execution_count": 42,
   "id": "0f92feff-faa9-4071-80f3-29ae90270407",
   "metadata": {},
   "outputs": [
    {
     "data": {
      "text/plain": [
       "50"
      ]
     },
     "execution_count": 42,
     "metadata": {},
     "output_type": "execute_result"
    }
   ],
   "source": [
    "#Multiply two numbes\n",
    "25*2"
   ]
  },
  {
   "cell_type": "code",
   "execution_count": 44,
   "id": "7050c569-c7e5-4ac8-802c-693280d36cfe",
   "metadata": {},
   "outputs": [
    {
     "data": {
      "text/plain": [
       "1100.0"
      ]
     },
     "execution_count": 44,
     "metadata": {},
     "output_type": "execute_result"
    }
   ],
   "source": [
    "#Divide between two numbers\n",
    "2200 / 2"
   ]
  },
  {
   "cell_type": "code",
   "execution_count": 46,
   "id": "cf378edd-d1d7-4fe6-953d-313f784d4ff5",
   "metadata": {},
   "outputs": [
    {
     "data": {
      "text/plain": [
       "'Happy coding!'"
      ]
     },
     "execution_count": 46,
     "metadata": {},
     "output_type": "execute_result"
    }
   ],
   "source": [
    "#Concatenate two stirngs together\n",
    "\"Happy\" + \" \" + \"coding!\""
   ]
  },
  {
   "cell_type": "code",
   "execution_count": 48,
   "id": "db3b5450-1d50-47ac-b8a1-6f0da788467f",
   "metadata": {},
   "outputs": [
    {
     "data": {
      "text/plain": [
       "['PyCharm Professional', 'Jupyter', 'Orange 3', 'Anaconda Toolbox']"
      ]
     },
     "execution_count": 48,
     "metadata": {},
     "output_type": "execute_result"
    }
   ],
   "source": [
    "#Create a list of 4 items\n",
    "packages = [\"PyCharm Professional\", \"Jupyter\", \"Orange 3\", \"Anaconda Toolbox\"]\n",
    "packages"
   ]
  },
  {
   "cell_type": "code",
   "execution_count": 50,
   "id": "542b53b7-311f-4aa4-b889-e982d3f847d9",
   "metadata": {},
   "outputs": [
    {
     "data": {
      "text/plain": [
       "['PyCharm Professional', 'Jupyter', 'Orange 3', 'Anaconda Toolbox', 'Spyder']"
      ]
     },
     "execution_count": 50,
     "metadata": {},
     "output_type": "execute_result"
    }
   ],
   "source": [
    "#Append an item to the list\n",
    "packages = [\"PyCharm Professional\", \"Jupyter\", \"Orange 3\", \"Anaconda Toolbox\"]\n",
    "packages.append(\"Spyder\")\n",
    "packages"
   ]
  },
  {
   "cell_type": "code",
   "execution_count": 52,
   "id": "782c6c04-ec15-4b68-8e36-91cfdab49eea",
   "metadata": {},
   "outputs": [
    {
     "data": {
      "text/plain": [
       "['Anaconda Toolbox', 'Jupyter', 'Orange 3', 'PyCharm Professional', 'Spyder']"
      ]
     },
     "execution_count": 52,
     "metadata": {},
     "output_type": "execute_result"
    }
   ],
   "source": [
    "#Sort the list\n",
    "packages.sort()\n",
    "packages"
   ]
  },
  {
   "cell_type": "code",
   "execution_count": 54,
   "id": "f6a4b1d2-2c6e-4f4f-adab-f2d690cdac13",
   "metadata": {},
   "outputs": [
    {
     "data": {
      "text/plain": [
       "('Debbie', 'McMurrick', 'Bellevue Univeristy', 'MS Data Science')"
      ]
     },
     "execution_count": 54,
     "metadata": {},
     "output_type": "execute_result"
    }
   ],
   "source": [
    "#Create a tuple with 4 items\n",
    "student = (\"Debbie\", \"McMurrick\", \"Bellevue Univeristy\", \"MS Data Science\")\n",
    "student"
   ]
  },
  {
   "cell_type": "code",
   "execution_count": null,
   "id": "66a8caf0-f944-44ce-b345-8a9d78da210b",
   "metadata": {},
   "outputs": [],
   "source": []
  }
 ],
 "metadata": {
  "kernelspec": {
   "display_name": "Python 3 (ipykernel)",
   "language": "python",
   "name": "python3"
  },
  "language_info": {
   "codemirror_mode": {
    "name": "ipython",
    "version": 3
   },
   "file_extension": ".py",
   "mimetype": "text/x-python",
   "name": "python",
   "nbconvert_exporter": "python",
   "pygments_lexer": "ipython3",
   "version": "3.12.4"
  }
 },
 "nbformat": 4,
 "nbformat_minor": 5
}
